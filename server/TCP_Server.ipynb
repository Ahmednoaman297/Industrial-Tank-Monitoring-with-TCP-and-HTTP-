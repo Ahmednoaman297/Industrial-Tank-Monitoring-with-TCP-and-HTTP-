{
 "cells": [
  {
   "cell_type": "code",
   "execution_count": null,
   "metadata": {},
   "outputs": [
    {
     "name": "stderr",
     "output_type": "stream",
     "text": [
      "INFO:root:Server is listening on port 12345\n"
     ]
    }
   ],
   "source": [
    "import socket\n",
    "import json\n",
    "import logging\n",
    "import requests\n",
    "import traceback\n",
    "\n",
    "# Setup logging\n",
    "logging.basicConfig(level=logging.INFO)\n",
    "## low mesh mawgoda no data printed\n",
    "\n",
    "# Flask app URL (to send data to)\n",
    "FLASK_URL = \"http://127.0.0.1:8000/update-tank\"\n",
    "#The FLASK_URL variable is the endpoint where data will be sent (a Flask app listening on port 8000).\n",
    "# Create a socket server\n",
    "server = socket.socket(socket.AF_INET, socket.SOCK_STREAM) \n",
    "#A socket is created with IPv4 addressing (AF_INET) and TCP/IP protocol (SOCK_STREAM).\n",
    "server.bind((\"0.0.0.0\", 12345))\n",
    "server.listen(5)\n",
    "#The server is bound to listen on all interfaces (0.0.0.0) at port 12345. The listen(5) call sets up a backlog queue of 5 connections.\n",
    "logging.info(\"Server is listening on port 12345\")\n",
    "\n",
    "try:\n",
    "    while True:\n",
    "        #The server.accept() function blocks and waits for a client connection. When a client connects, a new socket object (client) and the address of the client (addr) are returned.\n",
    "        client, addr = server.accept()\n",
    "        logging.info(f\"Connection established with {addr}\")\n",
    "        try:\n",
    "            data = client.recv(1024)\n",
    "            #The server waits for data from the client by calling recv(1024) (reads up to 1024 bytes).\n",
    "            if data:\n",
    "                logging.debug(f\"Raw data received: {data}\")\n",
    "                #If data is received, it is logged at the DEBUG level and decoded from bytes to a string.\n",
    "                try:\n",
    "                    # Parse JSON data\n",
    "                    message = json.loads(data.decode())\n",
    "                    #The json.loads() method is used to convert the string into a Python dictionary (JSON). If successful, the parsed message is logged and printed.\n",
    "                    logging.info(f\"Received: {message}\")\n",
    "                    print(message)\n",
    "                    # Send the data to Flask app\n",
    "                    response = requests.post(FLASK_URL, json=message)\n",
    "                    #The parsed data (message) is sent to the Flask app using the requests.post() method, with the URL specified by FLASK_URL. The data is sent as a JSON payload (json=message).\n",
    "                    if response.status_code == 200: #ok\n",
    "                        logging.info(\"Data successfully sent to Flask app.\")\n",
    "                    else:\n",
    "                        logging.error(f\"Failed to send data to Flask app. Status code: {response.status_code}\")\n",
    "                except json.JSONDecodeError as e:\n",
    "                    logging.error(f\"JSON error: {e}, raw data: {data}\")\n",
    "            else:\n",
    "                logging.warning(\"No data received from the client.\")\n",
    "        except Exception as e:\n",
    "            logging.error(f\"Unexpected error: {traceback.format_exc()}\")\n",
    "        finally:\n",
    "            client.close()\n",
    "except KeyboardInterrupt:\n",
    "    logging.info(\"Shutting down server...\")\n",
    "finally:\n",
    "    server.close()\n"
   ]
  }
 ],
 "metadata": {
  "kernelspec": {
   "display_name": "Python 3",
   "language": "python",
   "name": "python3"
  },
  "language_info": {
   "codemirror_mode": {
    "name": "ipython",
    "version": 3
   },
   "file_extension": ".py",
   "mimetype": "text/x-python",
   "name": "python",
   "nbconvert_exporter": "python",
   "pygments_lexer": "ipython3",
   "version": "3.12.5"
  }
 },
 "nbformat": 4,
 "nbformat_minor": 2
}
