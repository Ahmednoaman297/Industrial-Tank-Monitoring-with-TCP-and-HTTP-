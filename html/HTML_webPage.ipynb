{
 "cells": [
  {
   "cell_type": "code",
   "execution_count": 40,
   "metadata": {},
   "outputs": [
    {
     "name": "stdout",
     "output_type": "stream",
     "text": [
      " * Serving Flask app '__main__'\n",
      " * Debug mode: off\n"
     ]
    },
    {
     "name": "stderr",
     "output_type": "stream",
     "text": [
      "WARNING: This is a development server. Do not use it in a production deployment. Use a production WSGI server instead.\n",
      " * Running on all addresses (0.0.0.0)\n",
      " * Running on http://127.0.0.1:8000\n",
      " * Running on http://192.168.1.26:8000\n",
      "Press CTRL+C to quit\n",
      "127.0.0.1 - - [26/Dec/2024 19:46:48] \"GET /tank-level HTTP/1.1\" 200 -\n",
      "127.0.0.1 - - [26/Dec/2024 19:46:51] \"POST /update-tank HTTP/1.1\" 200 -\n"
     ]
    },
    {
     "name": "stdout",
     "output_type": "stream",
     "text": [
      "Received data: {'tank_level': 50, 'status': 'OK'}\n",
      "Updated tank data: {'tank_level': 50, 'status': 'OK', 'last_updated': '2024-12-26T17:46:51Z'}\n"
     ]
    },
    {
     "name": "stderr",
     "output_type": "stream",
     "text": [
      "127.0.0.1 - - [26/Dec/2024 19:46:54] \"GET /tank-level HTTP/1.1\" 200 -\n",
      "127.0.0.1 - - [26/Dec/2024 19:46:57] \"POST /update-tank HTTP/1.1\" 200 -\n"
     ]
    },
    {
     "name": "stdout",
     "output_type": "stream",
     "text": [
      "Received data: {'tank_level': 40, 'status': 'OK'}\n",
      "Updated tank data: {'tank_level': 40, 'status': 'OK', 'last_updated': '2024-12-26T17:46:57Z'}\n"
     ]
    },
    {
     "name": "stderr",
     "output_type": "stream",
     "text": [
      "127.0.0.1 - - [26/Dec/2024 19:47:00] \"GET /tank-level HTTP/1.1\" 200 -\n",
      "127.0.0.1 - - [26/Dec/2024 19:47:02] \"POST /update-tank HTTP/1.1\" 200 -\n"
     ]
    },
    {
     "name": "stdout",
     "output_type": "stream",
     "text": [
      "Received data: {'tank_level': 50, 'status': 'OK'}\n",
      "Updated tank data: {'tank_level': 50, 'status': 'OK', 'last_updated': '2024-12-26T17:47:02Z'}\n"
     ]
    },
    {
     "name": "stderr",
     "output_type": "stream",
     "text": [
      "127.0.0.1 - - [26/Dec/2024 19:47:06] \"GET /tank-level HTTP/1.1\" 200 -\n",
      "127.0.0.1 - - [26/Dec/2024 19:47:08] \"POST /update-tank HTTP/1.1\" 200 -\n"
     ]
    },
    {
     "name": "stdout",
     "output_type": "stream",
     "text": [
      "Received data: {'tank_level': 40, 'status': 'OK'}\n",
      "Updated tank data: {'tank_level': 40, 'status': 'OK', 'last_updated': '2024-12-26T17:47:08Z'}\n"
     ]
    },
    {
     "name": "stderr",
     "output_type": "stream",
     "text": [
      "127.0.0.1 - - [26/Dec/2024 19:47:12] \"GET /tank-level HTTP/1.1\" 200 -\n",
      "127.0.0.1 - - [26/Dec/2024 19:47:13] \"POST /update-tank HTTP/1.1\" 200 -\n"
     ]
    },
    {
     "name": "stdout",
     "output_type": "stream",
     "text": [
      "Received data: {'tank_level': 50, 'status': 'OK'}\n",
      "Updated tank data: {'tank_level': 50, 'status': 'OK', 'last_updated': '2024-12-26T17:47:13Z'}\n"
     ]
    },
    {
     "name": "stderr",
     "output_type": "stream",
     "text": [
      "127.0.0.1 - - [26/Dec/2024 19:47:18] \"GET /tank-level HTTP/1.1\" 200 -\n",
      "127.0.0.1 - - [26/Dec/2024 19:47:19] \"POST /update-tank HTTP/1.1\" 200 -\n"
     ]
    },
    {
     "name": "stdout",
     "output_type": "stream",
     "text": [
      "Received data: {'tank_level': 40, 'status': 'OK'}\n",
      "Updated tank data: {'tank_level': 40, 'status': 'OK', 'last_updated': '2024-12-26T17:47:19Z'}\n"
     ]
    },
    {
     "name": "stderr",
     "output_type": "stream",
     "text": [
      "127.0.0.1 - - [26/Dec/2024 19:47:24] \"POST /update-tank HTTP/1.1\" 200 -\n",
      "127.0.0.1 - - [26/Dec/2024 19:47:24] \"GET /tank-level HTTP/1.1\" 200 -\n"
     ]
    },
    {
     "name": "stdout",
     "output_type": "stream",
     "text": [
      "Received data: {'tank_level': 50, 'status': 'OK'}\n",
      "Updated tank data: {'tank_level': 50, 'status': 'OK', 'last_updated': '2024-12-26T17:47:24Z'}\n"
     ]
    }
   ],
   "source": [
    "from flask import Flask, jsonify, request, render_template_string\n",
    "import time\n",
    "\n",
    "# Initialize the Flask app\n",
    "app = Flask(__name__)\n",
    "\n",
    "# Define a hardcoded password (in a real app, store securely or hash it)\n",
    "PASSWORD = \"mysecurepassword\"\n",
    "\n",
    "# Simulated tank level data\n",
    "TANK_DATA = {\n",
    "    \"tank_level\": 75,\n",
    "    \"status\": \"OK\",\n",
    "    \"last_updated\": \"2024-12-26T12:00:00Z\"\n",
    "}\n",
    "\n",
    "HISTORY_DATA = [\n",
    "    {\"timestamp\": \"2024-12-25T12:00:00Z\", \"tank_level\": 70, \"status\": \"OK\"},\n",
    "    {\"timestamp\": \"2024-12-24T12:00:00Z\", \"tank_level\": 80, \"status\": \"OK\"}\n",
    "]\n",
    "\n",
    "# HTML template for the main page\n",
    "HTML_TEMPLATE = \"\"\"\n",
    "<!DOCTYPE html>\n",
    "<html lang=\"en\">\n",
    "<head>\n",
    "    <meta charset=\"UTF-8\">\n",
    "    <meta name=\"viewport\" content=\"width=device-width, initial-scale=1.0\">\n",
    "    <title>Tank Monitoring System</title>\n",
    "</head>\n",
    "<body>\n",
    "    <h1>Tank Monitoring System</h1>\n",
    "    <p>Enter the password to view history:</p>\n",
    "    <form action=\"/history\" method=\"POST\">\n",
    "        <input type=\"password\" name=\"password\" placeholder=\"Enter password\" required>\n",
    "        <button type=\"submit\">Submit</button>\n",
    "    </form>\n",
    "    <hr>\n",
    "    <h2>Current Tank Status</h2>\n",
    "    <p>Current Tank Level: <span id=\"tankLevel\">Loading...</span></p>\n",
    "    <p>Status: <span id=\"status\">Loading...</span></p>\n",
    "    <p>Last Updated: <span id=\"lastUpdated\">Loading...</span></p>\n",
    "    <script>\n",
    "        function fetchTankData() {\n",
    "            fetch('/tank-level')\n",
    "                .then(response => response.json())\n",
    "                .then(data => {\n",
    "                    document.getElementById('tankLevel').innerText = data.tank_level + '%';\n",
    "                    document.getElementById('status').innerText = data.status;\n",
    "                    document.getElementById('lastUpdated').innerText = data.last_updated;\n",
    "                })\n",
    "                .catch(error => console.error('Error fetching tank data:', error));\n",
    "        }\n",
    "\n",
    "        setInterval(fetchTankData, 5400); // Poll every 5 seconds\n",
    "    </script>\n",
    "</body>\n",
    "</html>\n",
    "\"\"\"\n",
    "\n",
    "# HTML template for history page\n",
    "HISTORY_TEMPLATE = \"\"\"\n",
    "<!DOCTYPE html>\n",
    "<html lang=\"en\">\n",
    "<head>\n",
    "    <meta charset=\"UTF-8\">\n",
    "    <meta name=\"viewport\" content=\"width=device-width, initial-scale=1.0\">\n",
    "    <title>Tank History</title>\n",
    "</head>\n",
    "<body>\n",
    "    <h1>Tank History</h1>\n",
    "    <ul>\n",
    "        {% for record in history %}\n",
    "        <li><b>{{ record.timestamp }}</b>: Level {{ record.tank_level }}% (Status: {{ record.status }})</li>\n",
    "        {% endfor %}\n",
    "    </ul>\n",
    "    <a href=\"/\">Go Back</a>\n",
    "</body>\n",
    "</html>\n",
    "\"\"\"\n",
    "\n",
    "@app.route(\"/\", methods=[\"GET\"])\n",
    "def home():\n",
    "    \"\"\"Render the main page with a password box.\"\"\"\n",
    "    return render_template_string(HTML_TEMPLATE)\n",
    "\n",
    "@app.route(\"/history\", methods=[\"POST\"])\n",
    "def history():\n",
    "    \"\"\"Validate the password and display the history.\"\"\"\n",
    "    password = request.form.get(\"password\")\n",
    "    if password == PASSWORD:\n",
    "        return render_template_string(HISTORY_TEMPLATE, history=HISTORY_DATA)\n",
    "    else:\n",
    "        return \"\"\"\n",
    "        <h1>Unauthorized</h1>\n",
    "        <p>Incorrect password. <a href=\"/\">Try again</a>.</p>\n",
    "        \"\"\", 401\n",
    "\n",
    "@app.route(\"/update-tank\", methods=[\"POST\"])\n",
    "def update_tank():\n",
    "    \"\"\"Endpoint to accept POST data.\"\"\"\n",
    "    try:\n",
    "        data = request.get_json()\n",
    "        if not data:\n",
    "            return jsonify({\"error\": \"No JSON payload received\"}), 400\n",
    "        \n",
    "        # Log received data (for debugging)\n",
    "        print(f\"Received data: {data}\")\n",
    "        \n",
    "        # Update TANK_DATA\n",
    "        TANK_DATA.update(data)\n",
    "        TANK_DATA[\"last_updated\"] = time.strftime(\"%Y-%m-%dT%H:%M:%SZ\", time.gmtime())\n",
    "        \n",
    "        # Append to HISTORY_DATA\n",
    "        HISTORY_DATA.append({\n",
    "            \"timestamp\": TANK_DATA[\"last_updated\"],\n",
    "            \"tank_level\": data.get(\"tank_level\", TANK_DATA[\"tank_level\"]),\n",
    "            \"status\": data.get(\"status\", TANK_DATA[\"status\"]),\n",
    "        })\n",
    "        \n",
    "        # Log updated data\n",
    "        print(f\"Updated tank data: {TANK_DATA}\")\n",
    "        \n",
    "        return jsonify({\"message\": \"Tank data updated successfully\", \"current_data\": TANK_DATA}), 200\n",
    "    except Exception as e:\n",
    "        print(f\"Error processing data: {e}\")\n",
    "        return jsonify({\"error\": \"Failed to process data\"}), 500\n",
    "\n",
    "@app.route(\"/tank-level\", methods=[\"GET\"])\n",
    "def tank_level():\n",
    "    \"\"\"API endpoint to get current tank level data.\"\"\"\n",
    "    return jsonify(TANK_DATA)\n",
    "\n",
    "# Run the app\n",
    "if __name__ == \"__main__\":\n",
    "    app.run(host=\"0.0.0.0\", port=8000)\n"
   ]
  },
  {
   "cell_type": "code",
   "execution_count": 3,
   "metadata": {},
   "outputs": [
    {
     "name": "stdout",
     "output_type": "stream",
     "text": [
      " * Serving Flask app '__main__'\n",
      " * Debug mode: off\n"
     ]
    },
    {
     "name": "stderr",
     "output_type": "stream",
     "text": [
      "WARNING: This is a development server. Do not use it in a production deployment. Use a production WSGI server instead.\n",
      " * Running on all addresses (0.0.0.0)\n",
      " * Running on http://127.0.0.1:8000\n",
      " * Running on http://192.168.1.26:8000\n",
      "Press CTRL+C to quit\n",
      "127.0.0.1 - - [28/Dec/2024 03:31:07] \"GET / HTTP/1.1\" 200 -\n",
      "127.0.0.1 - - [28/Dec/2024 03:31:11] \"POST /history HTTP/1.1\" 401 -\n",
      "127.0.0.1 - - [28/Dec/2024 03:31:28] \"GET / HTTP/1.1\" 200 -\n",
      "127.0.0.1 - - [28/Dec/2024 03:31:30] \"POST /history HTTP/1.1\" 200 -\n",
      "127.0.0.1 - - [28/Dec/2024 03:31:41] \"GET / HTTP/1.1\" 200 -\n",
      "127.0.0.1 - - [28/Dec/2024 03:31:47] \"GET /tank-level HTTP/1.1\" 200 -\n",
      "127.0.0.1 - - [28/Dec/2024 03:31:53] \"GET /tank-level HTTP/1.1\" 200 -\n",
      "127.0.0.1 - - [28/Dec/2024 03:31:59] \"GET /tank-level HTTP/1.1\" 200 -\n",
      "127.0.0.1 - - [28/Dec/2024 03:32:04] \"POST /history HTTP/1.1\" 200 -\n",
      "127.0.0.1 - - [28/Dec/2024 03:32:11] \"GET / HTTP/1.1\" 200 -\n",
      "127.0.0.1 - - [28/Dec/2024 03:32:18] \"GET /tank-level HTTP/1.1\" 200 -\n",
      "127.0.0.1 - - [28/Dec/2024 03:32:23] \"GET /tank-level HTTP/1.1\" 200 -\n",
      "127.0.0.1 - - [28/Dec/2024 03:32:28] \"GET /tank-level HTTP/1.1\" 200 -\n",
      "127.0.0.1 - - [28/Dec/2024 03:32:34] \"GET /tank-level HTTP/1.1\" 200 -\n",
      "127.0.0.1 - - [28/Dec/2024 03:32:40] \"GET /tank-level HTTP/1.1\" 200 -\n",
      "127.0.0.1 - - [28/Dec/2024 03:32:46] \"GET /tank-level HTTP/1.1\" 200 -\n",
      "127.0.0.1 - - [28/Dec/2024 03:32:51] \"GET /tank-level HTTP/1.1\" 200 -\n",
      "127.0.0.1 - - [28/Dec/2024 03:32:57] \"GET /tank-level HTTP/1.1\" 200 -\n",
      "127.0.0.1 - - [28/Dec/2024 03:33:03] \"GET /tank-level HTTP/1.1\" 200 -\n",
      "127.0.0.1 - - [28/Dec/2024 03:33:05] \"POST /update-tank HTTP/1.1\" 200 -\n"
     ]
    },
    {
     "name": "stdout",
     "output_type": "stream",
     "text": [
      "Received data: {'tank_level': 40, 'status': 'OK'}\n",
      "Updated tank data: {'tank_level': 40, 'status': 'OK', 'last_updated': '2024-12-28T01:33:05Z'}\n"
     ]
    },
    {
     "name": "stderr",
     "output_type": "stream",
     "text": [
      "127.0.0.1 - - [28/Dec/2024 03:33:08] \"GET /tank-level HTTP/1.1\" 200 -\n",
      "127.0.0.1 - - [28/Dec/2024 03:33:11] \"POST /update-tank HTTP/1.1\" 200 -\n"
     ]
    },
    {
     "name": "stdout",
     "output_type": "stream",
     "text": [
      "Received data: {'tank_level': 50, 'status': 'OK'}\n",
      "Updated tank data: {'tank_level': 50, 'status': 'OK', 'last_updated': '2024-12-28T01:33:11Z'}\n"
     ]
    },
    {
     "name": "stderr",
     "output_type": "stream",
     "text": [
      "127.0.0.1 - - [28/Dec/2024 03:33:14] \"GET /tank-level HTTP/1.1\" 200 -\n",
      "127.0.0.1 - - [28/Dec/2024 03:33:16] \"POST /update-tank HTTP/1.1\" 200 -\n"
     ]
    },
    {
     "name": "stdout",
     "output_type": "stream",
     "text": [
      "Received data: {'tank_level': 40, 'status': 'OK'}\n",
      "Updated tank data: {'tank_level': 40, 'status': 'OK', 'last_updated': '2024-12-28T01:33:16Z'}\n"
     ]
    },
    {
     "name": "stderr",
     "output_type": "stream",
     "text": [
      "127.0.0.1 - - [28/Dec/2024 03:33:19] \"GET /tank-level HTTP/1.1\" 200 -\n",
      "127.0.0.1 - - [28/Dec/2024 03:33:22] \"POST /update-tank HTTP/1.1\" 200 -\n"
     ]
    },
    {
     "name": "stdout",
     "output_type": "stream",
     "text": [
      "Received data: {'tank_level': 50, 'status': 'OK'}\n",
      "Updated tank data: {'tank_level': 50, 'status': 'OK', 'last_updated': '2024-12-28T01:33:22Z'}\n"
     ]
    },
    {
     "name": "stderr",
     "output_type": "stream",
     "text": [
      "127.0.0.1 - - [28/Dec/2024 03:33:25] \"GET /tank-level HTTP/1.1\" 200 -\n",
      "127.0.0.1 - - [28/Dec/2024 03:33:27] \"POST /update-tank HTTP/1.1\" 200 -\n"
     ]
    },
    {
     "name": "stdout",
     "output_type": "stream",
     "text": [
      "Received data: {'tank_level': 40, 'status': 'OK'}\n",
      "Updated tank data: {'tank_level': 40, 'status': 'OK', 'last_updated': '2024-12-28T01:33:27Z'}\n"
     ]
    },
    {
     "name": "stderr",
     "output_type": "stream",
     "text": [
      "127.0.0.1 - - [28/Dec/2024 03:33:28] \"GET / HTTP/1.1\" 200 -\n",
      "127.0.0.1 - - [28/Dec/2024 03:33:30] \"GET /tank-level HTTP/1.1\" 200 -\n",
      "127.0.0.1 - - [28/Dec/2024 03:33:33] \"POST /update-tank HTTP/1.1\" 200 -\n"
     ]
    },
    {
     "name": "stdout",
     "output_type": "stream",
     "text": [
      "Received data: {'tank_level': 50, 'status': 'OK'}\n",
      "Updated tank data: {'tank_level': 50, 'status': 'OK', 'last_updated': '2024-12-28T01:33:33Z'}\n"
     ]
    },
    {
     "name": "stderr",
     "output_type": "stream",
     "text": [
      "127.0.0.1 - - [28/Dec/2024 03:33:34] \"GET /tank-level HTTP/1.1\" 200 -\n",
      "127.0.0.1 - - [28/Dec/2024 03:33:36] \"GET /tank-level HTTP/1.1\" 200 -\n",
      "127.0.0.1 - - [28/Dec/2024 03:33:38] \"POST /update-tank HTTP/1.1\" 200 -\n"
     ]
    },
    {
     "name": "stdout",
     "output_type": "stream",
     "text": [
      "Received data: {'tank_level': 40, 'status': 'OK'}\n",
      "Updated tank data: {'tank_level': 40, 'status': 'OK', 'last_updated': '2024-12-28T01:33:38Z'}\n"
     ]
    },
    {
     "name": "stderr",
     "output_type": "stream",
     "text": [
      "127.0.0.1 - - [28/Dec/2024 03:33:39] \"GET /tank-level HTTP/1.1\" 200 -\n",
      "127.0.0.1 - - [28/Dec/2024 03:33:42] \"GET /tank-level HTTP/1.1\" 200 -\n",
      "127.0.0.1 - - [28/Dec/2024 03:33:44] \"POST /update-tank HTTP/1.1\" 200 -\n"
     ]
    },
    {
     "name": "stdout",
     "output_type": "stream",
     "text": [
      "Received data: {'tank_level': 50, 'status': 'OK'}\n",
      "Updated tank data: {'tank_level': 50, 'status': 'OK', 'last_updated': '2024-12-28T01:33:44Z'}\n"
     ]
    },
    {
     "name": "stderr",
     "output_type": "stream",
     "text": [
      "127.0.0.1 - - [28/Dec/2024 03:33:45] \"POST /history HTTP/1.1\" 200 -\n",
      "127.0.0.1 - - [28/Dec/2024 03:33:47] \"GET /tank-level HTTP/1.1\" 200 -\n",
      "127.0.0.1 - - [28/Dec/2024 03:33:49] \"POST /update-tank HTTP/1.1\" 200 -\n"
     ]
    },
    {
     "name": "stdout",
     "output_type": "stream",
     "text": [
      "Received data: {'tank_level': 40, 'status': 'OK'}\n",
      "Updated tank data: {'tank_level': 40, 'status': 'OK', 'last_updated': '2024-12-28T01:33:49Z'}\n"
     ]
    },
    {
     "name": "stderr",
     "output_type": "stream",
     "text": [
      "127.0.0.1 - - [28/Dec/2024 03:33:53] \"GET /tank-level HTTP/1.1\" 200 -\n",
      "127.0.0.1 - - [28/Dec/2024 03:33:55] \"POST /update-tank HTTP/1.1\" 200 -\n"
     ]
    },
    {
     "name": "stdout",
     "output_type": "stream",
     "text": [
      "Received data: {'tank_level': 50, 'status': 'OK'}\n",
      "Updated tank data: {'tank_level': 50, 'status': 'OK', 'last_updated': '2024-12-28T01:33:55Z'}\n"
     ]
    },
    {
     "name": "stderr",
     "output_type": "stream",
     "text": [
      "127.0.0.1 - - [28/Dec/2024 03:33:59] \"GET /tank-level HTTP/1.1\" 200 -\n",
      "127.0.0.1 - - [28/Dec/2024 03:34:00] \"POST /update-tank HTTP/1.1\" 200 -\n"
     ]
    },
    {
     "name": "stdout",
     "output_type": "stream",
     "text": [
      "Received data: {'tank_level': 40, 'status': 'OK'}\n",
      "Updated tank data: {'tank_level': 40, 'status': 'OK', 'last_updated': '2024-12-28T01:34:00Z'}\n"
     ]
    },
    {
     "name": "stderr",
     "output_type": "stream",
     "text": [
      "127.0.0.1 - - [28/Dec/2024 03:34:04] \"GET /tank-level HTTP/1.1\" 200 -\n",
      "127.0.0.1 - - [28/Dec/2024 03:34:06] \"POST /update-tank HTTP/1.1\" 200 -\n"
     ]
    },
    {
     "name": "stdout",
     "output_type": "stream",
     "text": [
      "Received data: {'tank_level': 50, 'status': 'OK'}\n",
      "Updated tank data: {'tank_level': 50, 'status': 'OK', 'last_updated': '2024-12-28T01:34:06Z'}\n"
     ]
    },
    {
     "name": "stderr",
     "output_type": "stream",
     "text": [
      "127.0.0.1 - - [28/Dec/2024 03:34:10] \"GET /tank-level HTTP/1.1\" 200 -\n",
      "127.0.0.1 - - [28/Dec/2024 03:34:11] \"POST /update-tank HTTP/1.1\" 200 -\n"
     ]
    },
    {
     "name": "stdout",
     "output_type": "stream",
     "text": [
      "Received data: {'tank_level': 40, 'status': 'OK'}\n",
      "Updated tank data: {'tank_level': 40, 'status': 'OK', 'last_updated': '2024-12-28T01:34:11Z'}\n"
     ]
    },
    {
     "name": "stderr",
     "output_type": "stream",
     "text": [
      "127.0.0.1 - - [28/Dec/2024 03:34:15] \"GET /tank-level HTTP/1.1\" 200 -\n",
      "127.0.0.1 - - [28/Dec/2024 03:34:17] \"POST /update-tank HTTP/1.1\" 200 -\n"
     ]
    },
    {
     "name": "stdout",
     "output_type": "stream",
     "text": [
      "Received data: {'tank_level': 50, 'status': 'OK'}\n",
      "Updated tank data: {'tank_level': 50, 'status': 'OK', 'last_updated': '2024-12-28T01:34:17Z'}\n"
     ]
    },
    {
     "name": "stderr",
     "output_type": "stream",
     "text": [
      "127.0.0.1 - - [28/Dec/2024 03:34:21] \"GET /tank-level HTTP/1.1\" 200 -\n",
      "127.0.0.1 - - [28/Dec/2024 03:34:22] \"POST /update-tank HTTP/1.1\" 200 -\n"
     ]
    },
    {
     "name": "stdout",
     "output_type": "stream",
     "text": [
      "Received data: {'tank_level': 40, 'status': 'OK'}\n",
      "Updated tank data: {'tank_level': 40, 'status': 'OK', 'last_updated': '2024-12-28T01:34:22Z'}\n"
     ]
    },
    {
     "name": "stderr",
     "output_type": "stream",
     "text": [
      "127.0.0.1 - - [28/Dec/2024 03:34:27] \"GET /tank-level HTTP/1.1\" 200 -\n",
      "127.0.0.1 - - [28/Dec/2024 03:34:28] \"POST /update-tank HTTP/1.1\" 200 -\n"
     ]
    },
    {
     "name": "stdout",
     "output_type": "stream",
     "text": [
      "Received data: {'tank_level': 50, 'status': 'OK'}\n",
      "Updated tank data: {'tank_level': 50, 'status': 'OK', 'last_updated': '2024-12-28T01:34:28Z'}\n"
     ]
    },
    {
     "name": "stderr",
     "output_type": "stream",
     "text": [
      "127.0.0.1 - - [28/Dec/2024 03:34:33] \"POST /update-tank HTTP/1.1\" 200 -\n"
     ]
    },
    {
     "name": "stdout",
     "output_type": "stream",
     "text": [
      "Received data: {'tank_level': 40, 'status': 'OK'}\n",
      "Updated tank data: {'tank_level': 40, 'status': 'OK', 'last_updated': '2024-12-28T01:34:33Z'}\n"
     ]
    },
    {
     "name": "stderr",
     "output_type": "stream",
     "text": [
      "127.0.0.1 - - [28/Dec/2024 03:34:39] \"POST /update-tank HTTP/1.1\" 200 -\n"
     ]
    },
    {
     "name": "stdout",
     "output_type": "stream",
     "text": [
      "Received data: {'tank_level': 50, 'status': 'OK'}\n",
      "Updated tank data: {'tank_level': 50, 'status': 'OK', 'last_updated': '2024-12-28T01:34:39Z'}\n"
     ]
    },
    {
     "name": "stderr",
     "output_type": "stream",
     "text": [
      "127.0.0.1 - - [28/Dec/2024 03:34:44] \"POST /update-tank HTTP/1.1\" 200 -\n"
     ]
    },
    {
     "name": "stdout",
     "output_type": "stream",
     "text": [
      "Received data: {'tank_level': 40, 'status': 'OK'}\n",
      "Updated tank data: {'tank_level': 40, 'status': 'OK', 'last_updated': '2024-12-28T01:34:44Z'}\n"
     ]
    },
    {
     "name": "stderr",
     "output_type": "stream",
     "text": [
      "127.0.0.1 - - [28/Dec/2024 03:34:50] \"POST /update-tank HTTP/1.1\" 200 -\n"
     ]
    },
    {
     "name": "stdout",
     "output_type": "stream",
     "text": [
      "Received data: {'tank_level': 50, 'status': 'OK'}\n",
      "Updated tank data: {'tank_level': 50, 'status': 'OK', 'last_updated': '2024-12-28T01:34:50Z'}\n"
     ]
    },
    {
     "name": "stderr",
     "output_type": "stream",
     "text": [
      "127.0.0.1 - - [28/Dec/2024 03:34:55] \"POST /update-tank HTTP/1.1\" 200 -\n"
     ]
    },
    {
     "name": "stdout",
     "output_type": "stream",
     "text": [
      "Received data: {'tank_level': 40, 'status': 'OK'}\n",
      "Updated tank data: {'tank_level': 40, 'status': 'OK', 'last_updated': '2024-12-28T01:34:55Z'}\n"
     ]
    },
    {
     "name": "stderr",
     "output_type": "stream",
     "text": [
      "127.0.0.1 - - [28/Dec/2024 03:35:01] \"POST /update-tank HTTP/1.1\" 200 -\n"
     ]
    },
    {
     "name": "stdout",
     "output_type": "stream",
     "text": [
      "Received data: {'tank_level': 50, 'status': 'OK'}\n",
      "Updated tank data: {'tank_level': 50, 'status': 'OK', 'last_updated': '2024-12-28T01:35:01Z'}\n"
     ]
    },
    {
     "name": "stderr",
     "output_type": "stream",
     "text": [
      "127.0.0.1 - - [28/Dec/2024 03:35:06] \"POST /update-tank HTTP/1.1\" 200 -\n"
     ]
    },
    {
     "name": "stdout",
     "output_type": "stream",
     "text": [
      "Received data: {'tank_level': 40, 'status': 'OK'}\n",
      "Updated tank data: {'tank_level': 40, 'status': 'OK', 'last_updated': '2024-12-28T01:35:06Z'}\n"
     ]
    },
    {
     "name": "stderr",
     "output_type": "stream",
     "text": [
      "127.0.0.1 - - [28/Dec/2024 03:35:12] \"POST /update-tank HTTP/1.1\" 200 -\n"
     ]
    },
    {
     "name": "stdout",
     "output_type": "stream",
     "text": [
      "Received data: {'tank_level': 50, 'status': 'OK'}\n",
      "Updated tank data: {'tank_level': 50, 'status': 'OK', 'last_updated': '2024-12-28T01:35:12Z'}\n"
     ]
    },
    {
     "name": "stderr",
     "output_type": "stream",
     "text": [
      "127.0.0.1 - - [28/Dec/2024 03:35:15] \"GET /tank-level HTTP/1.1\" 200 -\n",
      "127.0.0.1 - - [28/Dec/2024 03:35:17] \"POST /update-tank HTTP/1.1\" 200 -\n"
     ]
    },
    {
     "name": "stdout",
     "output_type": "stream",
     "text": [
      "Received data: {'tank_level': 40, 'status': 'OK'}\n",
      "Updated tank data: {'tank_level': 40, 'status': 'OK', 'last_updated': '2024-12-28T01:35:17Z'}\n"
     ]
    },
    {
     "name": "stderr",
     "output_type": "stream",
     "text": [
      "127.0.0.1 - - [28/Dec/2024 03:35:23] \"POST /update-tank HTTP/1.1\" 200 -\n"
     ]
    },
    {
     "name": "stdout",
     "output_type": "stream",
     "text": [
      "Received data: {'tank_level': 50, 'status': 'OK'}\n",
      "Updated tank data: {'tank_level': 50, 'status': 'OK', 'last_updated': '2024-12-28T01:35:23Z'}\n"
     ]
    },
    {
     "name": "stderr",
     "output_type": "stream",
     "text": [
      "127.0.0.1 - - [28/Dec/2024 03:35:28] \"POST /update-tank HTTP/1.1\" 200 -\n"
     ]
    },
    {
     "name": "stdout",
     "output_type": "stream",
     "text": [
      "Received data: {'tank_level': 40, 'status': 'OK'}\n",
      "Updated tank data: {'tank_level': 40, 'status': 'OK', 'last_updated': '2024-12-28T01:35:28Z'}\n"
     ]
    },
    {
     "name": "stderr",
     "output_type": "stream",
     "text": [
      "127.0.0.1 - - [28/Dec/2024 03:35:34] \"POST /update-tank HTTP/1.1\" 200 -\n"
     ]
    },
    {
     "name": "stdout",
     "output_type": "stream",
     "text": [
      "Received data: {'tank_level': 50, 'status': 'OK'}\n",
      "Updated tank data: {'tank_level': 50, 'status': 'OK', 'last_updated': '2024-12-28T01:35:34Z'}\n"
     ]
    },
    {
     "name": "stderr",
     "output_type": "stream",
     "text": [
      "127.0.0.1 - - [28/Dec/2024 03:35:39] \"POST /update-tank HTTP/1.1\" 200 -\n"
     ]
    },
    {
     "name": "stdout",
     "output_type": "stream",
     "text": [
      "Received data: {'tank_level': 40, 'status': 'OK'}\n",
      "Updated tank data: {'tank_level': 40, 'status': 'OK', 'last_updated': '2024-12-28T01:35:39Z'}\n"
     ]
    },
    {
     "name": "stderr",
     "output_type": "stream",
     "text": [
      "127.0.0.1 - - [28/Dec/2024 03:35:45] \"POST /update-tank HTTP/1.1\" 200 -\n"
     ]
    },
    {
     "name": "stdout",
     "output_type": "stream",
     "text": [
      "Received data: {'tank_level': 50, 'status': 'OK'}\n",
      "Updated tank data: {'tank_level': 50, 'status': 'OK', 'last_updated': '2024-12-28T01:35:45Z'}\n"
     ]
    },
    {
     "name": "stderr",
     "output_type": "stream",
     "text": [
      "127.0.0.1 - - [28/Dec/2024 03:35:50] \"POST /update-tank HTTP/1.1\" 200 -\n"
     ]
    },
    {
     "name": "stdout",
     "output_type": "stream",
     "text": [
      "Received data: {'tank_level': 40, 'status': 'OK'}\n",
      "Updated tank data: {'tank_level': 40, 'status': 'OK', 'last_updated': '2024-12-28T01:35:50Z'}\n"
     ]
    },
    {
     "name": "stderr",
     "output_type": "stream",
     "text": [
      "127.0.0.1 - - [28/Dec/2024 03:35:56] \"POST /update-tank HTTP/1.1\" 200 -\n"
     ]
    },
    {
     "name": "stdout",
     "output_type": "stream",
     "text": [
      "Received data: {'tank_level': 50, 'status': 'OK'}\n",
      "Updated tank data: {'tank_level': 50, 'status': 'OK', 'last_updated': '2024-12-28T01:35:56Z'}\n"
     ]
    },
    {
     "name": "stderr",
     "output_type": "stream",
     "text": [
      "127.0.0.1 - - [28/Dec/2024 03:36:01] \"POST /update-tank HTTP/1.1\" 200 -\n"
     ]
    },
    {
     "name": "stdout",
     "output_type": "stream",
     "text": [
      "Received data: {'tank_level': 40, 'status': 'OK'}\n",
      "Updated tank data: {'tank_level': 40, 'status': 'OK', 'last_updated': '2024-12-28T01:36:01Z'}\n"
     ]
    },
    {
     "name": "stderr",
     "output_type": "stream",
     "text": [
      "127.0.0.1 - - [28/Dec/2024 03:36:07] \"POST /update-tank HTTP/1.1\" 200 -\n"
     ]
    },
    {
     "name": "stdout",
     "output_type": "stream",
     "text": [
      "Received data: {'tank_level': 50, 'status': 'OK'}\n",
      "Updated tank data: {'tank_level': 50, 'status': 'OK', 'last_updated': '2024-12-28T01:36:07Z'}\n"
     ]
    },
    {
     "name": "stderr",
     "output_type": "stream",
     "text": [
      "127.0.0.1 - - [28/Dec/2024 03:36:12] \"POST /update-tank HTTP/1.1\" 200 -\n"
     ]
    },
    {
     "name": "stdout",
     "output_type": "stream",
     "text": [
      "Received data: {'tank_level': 40, 'status': 'OK'}\n",
      "Updated tank data: {'tank_level': 40, 'status': 'OK', 'last_updated': '2024-12-28T01:36:12Z'}\n"
     ]
    },
    {
     "name": "stderr",
     "output_type": "stream",
     "text": [
      "127.0.0.1 - - [28/Dec/2024 03:36:15] \"GET /tank-level HTTP/1.1\" 200 -\n",
      "127.0.0.1 - - [28/Dec/2024 03:36:18] \"POST /update-tank HTTP/1.1\" 200 -\n"
     ]
    },
    {
     "name": "stdout",
     "output_type": "stream",
     "text": [
      "Received data: {'tank_level': 50, 'status': 'OK'}\n",
      "Updated tank data: {'tank_level': 50, 'status': 'OK', 'last_updated': '2024-12-28T01:36:18Z'}\n"
     ]
    },
    {
     "name": "stderr",
     "output_type": "stream",
     "text": [
      "127.0.0.1 - - [28/Dec/2024 03:36:24] \"POST /update-tank HTTP/1.1\" 200 -\n"
     ]
    },
    {
     "name": "stdout",
     "output_type": "stream",
     "text": [
      "Received data: {'tank_level': 40, 'status': 'OK'}\n",
      "Updated tank data: {'tank_level': 40, 'status': 'OK', 'last_updated': '2024-12-28T01:36:24Z'}\n"
     ]
    },
    {
     "name": "stderr",
     "output_type": "stream",
     "text": [
      "127.0.0.1 - - [28/Dec/2024 03:36:29] \"POST /update-tank HTTP/1.1\" 200 -\n"
     ]
    },
    {
     "name": "stdout",
     "output_type": "stream",
     "text": [
      "Received data: {'tank_level': 50, 'status': 'OK'}\n",
      "Updated tank data: {'tank_level': 50, 'status': 'OK', 'last_updated': '2024-12-28T01:36:29Z'}\n"
     ]
    },
    {
     "name": "stderr",
     "output_type": "stream",
     "text": [
      "127.0.0.1 - - [28/Dec/2024 03:36:35] \"POST /update-tank HTTP/1.1\" 200 -\n"
     ]
    },
    {
     "name": "stdout",
     "output_type": "stream",
     "text": [
      "Received data: {'tank_level': 40, 'status': 'OK'}\n",
      "Updated tank data: {'tank_level': 40, 'status': 'OK', 'last_updated': '2024-12-28T01:36:35Z'}\n"
     ]
    }
   ],
   "source": [
    "from flask import Flask, jsonify, request, render_template_string\n",
    "import time\n",
    "\n",
    "# Initialize the Flask app\n",
    "app = Flask(__name__)\n",
    "\n",
    "# Define a hardcoded password (in a real app, store securely or hash it)\n",
    "PASSWORD = \"mysecurepassword\"\n",
    "\n",
    "# Simulated tank level data\n",
    "TANK_DATA = {\n",
    "    \"tank_level\": 75,\n",
    "    \"status\": \"OK\",\n",
    "    \"last_updated\": \"2024-12-28T12:00:00Z\"\n",
    "}\n",
    "\n",
    "HISTORY_DATA = [\n",
    "    {\"timestamp\": \"2024-12-25T12:00:00Z\", \"tank_level\": 70, \"status\": \"OK\"},\n",
    "    {\"timestamp\": \"2024-12-24T12:00:00Z\", \"tank_level\": 80, \"status\": \"OK\"}\n",
    "]\n",
    "\n",
    "# HTML template for the main page with improved design\n",
    "HTML_TEMPLATE = \"\"\"\n",
    "<!DOCTYPE html>\n",
    "<html lang=\"en\">\n",
    "<head>\n",
    "    <meta charset=\"UTF-8\">\n",
    "    <meta name=\"viewport\" content=\"width=device-width, initial-scale=1.0\">\n",
    "    <title>Tank Monitoring System</title>\n",
    "    <style>\n",
    "        body {\n",
    "            font-family: Arial, sans-serif;\n",
    "            background-color: #e0f7fa;\n",
    "            margin: 0;\n",
    "            padding: 0;\n",
    "        }\n",
    "\n",
    "        header {\n",
    "            background-color: #0288d1;\n",
    "            color: white;\n",
    "            text-align: center;\n",
    "            padding: 1rem;\n",
    "        }\n",
    "\n",
    "        .container {\n",
    "            width: 80%;\n",
    "            margin: 0 auto;\n",
    "            padding: 20px;\n",
    "        }\n",
    "\n",
    "        h1 {\n",
    "            color: #333;\n",
    "        }\n",
    "\n",
    "        .status-section {\n",
    "            margin-top: 20px;\n",
    "            background-color: #fff;\n",
    "            padding: 20px;\n",
    "            border-radius: 8px;\n",
    "            box-shadow: 0 4px 8px rgba(0, 0, 0, 0.1);\n",
    "        }\n",
    "\n",
    "        .status-section p {\n",
    "            font-size: 18px;\n",
    "            margin-bottom: 10px;\n",
    "        }\n",
    "\n",
    "        .status-section span {\n",
    "            font-weight: bold;\n",
    "            color: #333;\n",
    "        }\n",
    "\n",
    "        .form-container {\n",
    "            background-color: #fff;\n",
    "            padding: 20px;\n",
    "            border-radius: 8px;\n",
    "            box-shadow: 0 4px 8px rgba(0, 0, 0, 0.1);\n",
    "            margin-bottom: 20px;\n",
    "        }\n",
    "\n",
    "        input[type=\"password\"] {\n",
    "            padding: 8px;\n",
    "            width: 60%;\n",
    "            margin-right: 10px;\n",
    "            border: 1px solid #ddd;\n",
    "            border-radius: 4px;\n",
    "        }\n",
    "\n",
    "        button {\n",
    "            padding: 10px 20px;\n",
    "            background-color: #0288d1;\n",
    "            color: white;\n",
    "            border: none;\n",
    "            border-radius: 4px;\n",
    "            cursor: pointer;\n",
    "        }\n",
    "\n",
    "        button:hover {\n",
    "            background-color: #e0f7fa;\n",
    "        }\n",
    "\n",
    "        footer {\n",
    "            text-align: center;\n",
    "            margin-top: 40px;\n",
    "            padding: 10px;\n",
    "            background-color: #0288d1;\n",
    "            color: white;\n",
    "        }\n",
    "\n",
    "    </style>\n",
    "</head>\n",
    "<body>\n",
    "    <header>\n",
    "        <h1>Tank Monitoring System</h1>\n",
    "    </header>\n",
    "    \n",
    "    <div class=\"container\">\n",
    "        <div class=\"form-container\">\n",
    "            <h2>Enter the password to view history:</h2>\n",
    "            <form action=\"/history\" method=\"POST\">\n",
    "                <input type=\"password\" name=\"password\" placeholder=\"Enter password\" required>\n",
    "                <button type=\"submit\">Submit</button>\n",
    "            </form>\n",
    "        </div>\n",
    "        \n",
    "        <div class=\"status-section\">\n",
    "            <h2>Current Tank Status</h2>\n",
    "            <p>Current Tank Level: <span id=\"tankLevel\">Loading...</span></p>\n",
    "            <p>Status: <span id=\"status\">Loading...</span></p>\n",
    "            <p>Last Updated: <span id=\"lastUpdated\">Loading...</span></p>\n",
    "        </div>\n",
    "    </div>\n",
    "\n",
    "    <footer>\n",
    "        <p>&copy; 2024 Tank Monitoring System. All Rights Reserved.</p>\n",
    "    </footer>\n",
    "\n",
    "    <script>\n",
    "        function fetchTankData() {\n",
    "            fetch('/tank-level')\n",
    "                .then(response => response.json())\n",
    "                .then(data => {\n",
    "                    document.getElementById('tankLevel').innerText = data.tank_level + '%';\n",
    "                    document.getElementById('status').innerText = data.status;\n",
    "                    document.getElementById('lastUpdated').innerText = data.last_updated;\n",
    "                })\n",
    "                .catch(error => console.error('Error fetching tank data:', error));\n",
    "        }\n",
    "\n",
    "        setInterval(fetchTankData, 5600); // Poll every 5 seconds\n",
    "    </script>\n",
    "</body>\n",
    "</html>\n",
    "\"\"\"\n",
    "\n",
    "# HTML template for the history page with improved design\n",
    "HISTORY_TEMPLATE = \"\"\"\n",
    "<!DOCTYPE html>\n",
    "<html lang=\"en\">\n",
    "<head>\n",
    "    <meta charset=\"UTF-8\">\n",
    "    <meta name=\"viewport\" content=\"width=device-width, initial-scale=1.0\">\n",
    "    <title>Tank History</title>\n",
    "    <style>\n",
    "        body {\n",
    "            font-family: Arial, sans-serif;\n",
    "            background-color: #f4f4f9;\n",
    "            margin: 0;\n",
    "            padding: 0;\n",
    "        }\n",
    "\n",
    "        header {\n",
    "            background-color: #0288d1;\n",
    "            color: white;\n",
    "            text-align: center;\n",
    "            padding: 1rem;\n",
    "        }\n",
    "\n",
    "        .container {\n",
    "            width: 80%;\n",
    "            margin: 0 auto;\n",
    "            padding: 20px;\n",
    "        }\n",
    "\n",
    "        h1 {\n",
    "            color: #333;\n",
    "        }\n",
    "\n",
    "        ul {\n",
    "            list-style-type: none;\n",
    "            padding: 0;\n",
    "        }\n",
    "\n",
    "        li {\n",
    "            background-color: #fff;\n",
    "            padding: 15px;\n",
    "            margin: 10px 0;\n",
    "            border-radius: 8px;\n",
    "            box-shadow: 0 4px 8px rgba(0, 0, 0, 0.1);\n",
    "        }\n",
    "\n",
    "        li b {\n",
    "            color: #0288d1;\n",
    "        }\n",
    "\n",
    "        a {\n",
    "            color: #0288d1;\n",
    "            text-decoration: none;\n",
    "            font-size: 16px;\n",
    "        }\n",
    "\n",
    "        a:hover {\n",
    "            text-decoration: underline;\n",
    "        }\n",
    "\n",
    "        footer {\n",
    "            text-align: center;\n",
    "            margin-top: 40px;\n",
    "            padding: 10px;\n",
    "            background-color: #0288d1;\n",
    "            color: white;\n",
    "        }\n",
    "    </style>\n",
    "</head>\n",
    "<body>\n",
    "    <header>\n",
    "        <h1>Tank History</h1>\n",
    "    </header>\n",
    "\n",
    "    <div class=\"container\">\n",
    "        <ul>\n",
    "            {% for record in history %}\n",
    "            <li>\n",
    "                <b>{{ record.timestamp }}</b>: Level {{ record.tank_level }}% (Status: {{ record.status }})\n",
    "            </li>\n",
    "            {% endfor %}\n",
    "        </ul>\n",
    "        <a href=\"/\">Go Back</a>\n",
    "    </div>\n",
    "\n",
    "    <footer>\n",
    "        <p>&copy; 2024 Tank Monitoring System. All Rights Reserved.</p>\n",
    "    </footer>\n",
    "</body>\n",
    "</html>\n",
    "\"\"\"\n",
    "\n",
    "@app.route(\"/\", methods=[\"GET\"])\n",
    "def home():\n",
    "    \"\"\"Render the main page with a password box.\"\"\"\n",
    "    return render_template_string(HTML_TEMPLATE)\n",
    "\n",
    "@app.route(\"/history\", methods=[\"POST\"])\n",
    "def history():\n",
    "    \"\"\"Validate the password and display the history.\"\"\"\n",
    "    password = request.form.get(\"password\")\n",
    "    if password == PASSWORD:\n",
    "        return render_template_string(HISTORY_TEMPLATE, history=HISTORY_DATA)\n",
    "    else:\n",
    "        return \"\"\"\n",
    "        <h1>Unauthorized</h1>\n",
    "        <p>Incorrect password. <a href=\"/\">Try again</a>.</p>\n",
    "        \"\"\", 401\n",
    "\n",
    "@app.route(\"/update-tank\", methods=[\"POST\"])\n",
    "def update_tank():\n",
    "    \"\"\"Endpoint to accept POST data.\"\"\"\n",
    "    try:\n",
    "        data = request.get_json()\n",
    "        if not data:\n",
    "            return jsonify({\"error\": \"No JSON payload received\"}), 400\n",
    "        \n",
    "        # Log received data (for debugging)\n",
    "        print(f\"Received data: {data}\")\n",
    "        \n",
    "        # Update TANK_DATA\n",
    "        TANK_DATA.update(data)\n",
    "        TANK_DATA[\"last_updated\"] = time.strftime(\"%Y-%m-%dT%H:%M:%SZ\", time.gmtime())\n",
    "        \n",
    "        # Append to HISTORY_DATA\n",
    "        HISTORY_DATA.append({\n",
    "            \"timestamp\": TANK_DATA[\"last_updated\"],\n",
    "            \"tank_level\": data.get(\"tank_level\", TANK_DATA[\"tank_level\"]),\n",
    "            \"status\": data.get(\"status\", TANK_DATA[\"status\"]),\n",
    "        })\n",
    "        \n",
    "        # Log updated data\n",
    "        print(f\"Updated tank data: {TANK_DATA}\")\n",
    "        \n",
    "        return jsonify({\"message\": \"Tank data updated successfully\", \"current_data\": TANK_DATA}), 200\n",
    "    except Exception as e:\n",
    "        print(f\"Error processing data: {e}\")\n",
    "        return jsonify({\"error\": \"Failed to process data\"}), 500\n",
    "\n",
    "@app.route(\"/tank-level\", methods=[\"GET\"])\n",
    "def tank_level():\n",
    "    \"\"\"API endpoint to get current tank level data.\"\"\"\n",
    "    return jsonify(TANK_DATA)\n",
    "\n",
    "# Run the app\n",
    "if __name__ == \"__main__\":\n",
    "    app.run(host=\"0.0.0.0\", port=8000)\n"
   ]
  }
 ],
 "metadata": {
  "kernelspec": {
   "display_name": "Python 3",
   "language": "python",
   "name": "python3"
  },
  "language_info": {
   "codemirror_mode": {
    "name": "ipython",
    "version": 3
   },
   "file_extension": ".py",
   "mimetype": "text/x-python",
   "name": "python",
   "nbconvert_exporter": "python",
   "pygments_lexer": "ipython3",
   "version": "3.12.5"
  }
 },
 "nbformat": 4,
 "nbformat_minor": 2
}
